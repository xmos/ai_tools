{
 "cells": [
  {
   "cell_type": "code",
   "execution_count": null,
   "metadata": {},
   "outputs": [],
   "source": [
    "import tensorflow as tf\n",
    "import numpy as np\n",
    "\n",
    "from tflite2xcore.xcore_interpreter import XCOREInterpreter, make_op_state_capture_callback\n",
    "from tflite2xcore.model_generation.utils import quantize, dequantize\n",
    "from tflite2xcore.serialization import read_flatbuffer"
   ]
  },
  {
   "cell_type": "markdown",
   "metadata": {},
   "source": [
    "NOTE: the Mobilenet model needs to be built with `include_top=False`, and converted with the following passes turned off: SplitPaddingPass, FuseConv2dPaddingPass, FuseConsecutivePadsPass\n",
    "\n",
    "TIP: change the saturation logic in vpu_sim.{c,h} and recompile the xInterpreter to reduce errors from -127 saturation."
   ]
  },
  {
   "cell_type": "code",
   "execution_count": null,
   "metadata": {},
   "outputs": [],
   "source": [
    "model_xcore = read_flatbuffer('./models/model_xcore.tflite')\n",
    "model_stripped = read_flatbuffer('./models/model_xcore.tflite')"
   ]
  },
  {
   "cell_type": "code",
   "execution_count": null,
   "metadata": {},
   "outputs": [],
   "source": [
    "interp_float = XCOREInterpreter(model_path='./models/model_float.tflite')\n",
    "interp_float.allocate_tensors()\n",
    "interp_xcore = XCOREInterpreter(model_path='./models/model_xcore.tflite')\n",
    "interp_xcore.allocate_tensors()\n",
    "interp_atomic = XCOREInterpreter(model_path='./models/model_xcore.tflite')\n",
    "interp_atomic.allocate_tensors()\n",
    "interp_stripped = XCOREInterpreter(model_path='./models/model_stripped.tflite')\n",
    "interp_stripped.allocate_tensors()"
   ]
  },
  {
   "cell_type": "code",
   "execution_count": null,
   "metadata": {},
   "outputs": [],
   "source": [
    "input_details = interp_xcore.get_input_details()[0]\n",
    "input_idx = input_details['index']\n",
    "input_quantization = input_details['quantization']\n",
    "\n",
    "output_details = interp_xcore.get_output_details()[0]\n",
    "output_idx = output_details['index']"
   ]
  },
  {
   "cell_type": "code",
   "execution_count": null,
   "metadata": {},
   "outputs": [],
   "source": [
    "data = np.load('./test_data/data.npz')\n",
    "x = data['export']\n",
    "x_int8 = quantize(x, *input_quantization)"
   ]
  },
  {
   "cell_type": "code",
   "execution_count": null,
   "metadata": {},
   "outputs": [],
   "source": [
    "interp_float.set_tensor(input_idx, x[0:1])\n",
    "interp_float.invoke(capture_op_states=True)\n",
    "y_float = interp_float.get_tensor(output_idx)\n",
    "float_states = interp_float._op_states"
   ]
  },
  {
   "cell_type": "code",
   "execution_count": null,
   "metadata": {},
   "outputs": [],
   "source": [
    "interp_xcore.set_tensor(input_idx, x_int8[0:1])\n",
    "interp_xcore.invoke(capture_op_states=True)\n",
    "y_int8_xcore = interp_xcore.get_tensor(output_idx)\n",
    "xcore_states = interp_xcore._op_states"
   ]
  },
  {
   "cell_type": "code",
   "execution_count": null,
   "metadata": {},
   "outputs": [],
   "source": [
    "interp_stripped.set_tensor(input_idx, x_int8[0:1])\n",
    "interp_stripped.invoke(capture_op_states=True)\n",
    "y_int8_stripped = interp_stripped.get_tensor(output_idx)\n",
    "stripped_states = interp_stripped._op_states"
   ]
  },
  {
   "cell_type": "code",
   "execution_count": null,
   "metadata": {},
   "outputs": [],
   "source": [
    "def make_op_output_replace_callback(ref_op_states):\n",
    "    assert isinstance(ref_op_states, list)\n",
    "\n",
    "    def _callback(interpreter, operator_details):\n",
    "        ref_state = ref_op_states[operator_details[\"index\"]]\n",
    "        for ref_output in ref_state[\"outputs\"]:\n",
    "            if operator_details[\"index\"] <= 8:\n",
    "                interpreter.set_tensor(ref_output[\"index\"], ref_output[\"values\"])\n",
    "\n",
    "    return _callback"
   ]
  },
  {
   "cell_type": "code",
   "execution_count": null,
   "metadata": {},
   "outputs": [],
   "source": [
    "atomic_states = []\n",
    "output_capture_cb = make_op_state_capture_callback(atomic_states, inputs=False)\n",
    "output_replace_cb = make_op_output_replace_callback(stripped_states)\n",
    "def combined_cb(interpreter, operator_details):\n",
    "    output_capture_cb(interpreter, operator_details)\n",
    "    output_replace_cb(interpreter, operator_details)\n",
    "\n",
    "interp_atomic.set_tensor(input_idx, x_int8[0:1])\n",
    "interp_atomic.invoke(postinvoke_callback=combined_cb)\n",
    "y_int8_xcore = interp_atomic.get_tensor(output_idx)"
   ]
  },
  {
   "cell_type": "code",
   "execution_count": null,
   "metadata": {},
   "outputs": [],
   "source": [
    "for j, (op_state_xcore, op_state_ref, op_state_atomic) in enumerate(zip(xcore_states, stripped_states, atomic_states)):\n",
    "    out_xcore = op_state_xcore['outputs'][0]['values'].astype(np.int32)\n",
    "    out_ref = op_state_ref['outputs'][0]['values'].astype(np.int32)\n",
    "    out_atomic = op_state_atomic['outputs'][0]['values'].astype(np.int32)\n",
    "    print(\n",
    "        f\"Operator {j:2d}:  \",\n",
    "        \"max(xcore - ref): {:3d}   \".format(np.max(np.abs(out_xcore-out_ref))),\n",
    "        \"max(atomic - ref): {:3d}   \".format(np.max(np.abs(out_atomic-out_ref))),\n",
    "        \"sum(atomic - ref): {:7d}   \".format(np.sum(np.abs(out_atomic-out_ref))),\n",
    "        \"ratio: {:.2%}\".format(np.count_nonzero(np.abs(out_atomic-out_ref)) / out_ref.size)\n",
    "    )"
   ]
  },
  {
   "cell_type": "code",
   "execution_count": null,
   "metadata": {},
   "outputs": [],
   "source": [
    "op_idx = -1\n",
    "out_float = float_states[op_idx]['outputs'][0]['values'].astype(np.float32)\n",
    "out_ref = stripped_states[op_idx]['outputs'][0]['values'].astype(np.int32)\n",
    "out_atomic = atomic_states[op_idx]['outputs'][0]['values'].astype(np.int32)\n",
    "tensor_idx = stripped_states[op_idx]['outputs'][0]['index']\n",
    "out_quantization = interp_stripped._get_tensor_details(tensor_idx)['quantization']\n",
    "\n",
    "diff = (out_ref - out_atomic)\n",
    "a = out_ref[np.abs(diff) > 0]\n",
    "np.unique(a, return_counts=True)"
   ]
  },
  {
   "cell_type": "code",
   "execution_count": null,
   "metadata": {},
   "outputs": [],
   "source": [
    "ref_err = np.linalg.norm(np.abs(dequantize(out_ref, *out_quantization) - out_float)) / np.linalg.norm(out_float)\n",
    "atomic_err = np.linalg.norm(np.abs(dequantize(out_atomic, *out_quantization) - out_float)) / np.linalg.norm(out_float)\n",
    "ref_err, atomic_err"
   ]
  },
  {
   "cell_type": "code",
   "execution_count": null,
   "metadata": {},
   "outputs": [],
   "source": []
  },
  {
   "cell_type": "code",
   "execution_count": null,
   "metadata": {},
   "outputs": [],
   "source": [
    "xcore_states[3]['inputs'][1]['values']"
   ]
  },
  {
   "cell_type": "code",
   "execution_count": null,
   "metadata": {},
   "outputs": [],
   "source": [
    "xcore_states[3]['inputs'][2]['values'][0,:,:].astype(np.int32)"
   ]
  },
  {
   "cell_type": "code",
   "execution_count": null,
   "metadata": {},
   "outputs": [],
   "source": [
    "out_float = float_states[3]['outputs'][0]['values']\n",
    "out_x = xcore_states[3]['outputs'][0]['values'].astype(np.int32)\n",
    "out_ref = stripped_states[3]['outputs'][0]['values'].astype(np.int32)\n",
    "out_x[0,0,0,:] - out_ref[0,0,0,:]"
   ]
  },
  {
   "cell_type": "code",
   "execution_count": null,
   "metadata": {},
   "outputs": [],
   "source": [
    "xcore_states[3]['inputs'][1]['values']"
   ]
  },
  {
   "cell_type": "code",
   "execution_count": null,
   "metadata": {},
   "outputs": [],
   "source": [
    "stripped_states[3]['inputs'][2]['values']"
   ]
  },
  {
   "cell_type": "code",
   "execution_count": null,
   "metadata": {},
   "outputs": [],
   "source": []
  },
  {
   "cell_type": "code",
   "execution_count": null,
   "metadata": {},
   "outputs": [],
   "source": []
  }
 ],
 "metadata": {
  "kernelspec": {
   "display_name": "Python 3",
   "language": "python",
   "name": "python3"
  },
  "language_info": {
   "codemirror_mode": {
    "name": "ipython",
    "version": 3
   },
   "file_extension": ".py",
   "mimetype": "text/x-python",
   "name": "python",
   "nbconvert_exporter": "python",
   "pygments_lexer": "ipython3",
   "version": "3.6.8"
  }
 },
 "nbformat": 4,
 "nbformat_minor": 2
}
