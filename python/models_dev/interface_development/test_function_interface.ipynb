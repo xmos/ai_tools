{
 "cells": [
  {
   "cell_type": "code",
   "execution_count": 90,
   "metadata": {},
   "outputs": [],
   "source": [
    "# Copyright (c) 2018-2019, XMOS Ltd, All rights reserved\n",
    "import examples_common as common\n",
    "import os\n",
    "import logging\n",
    "import pathlib\n",
    "import tempfile\n",
    "import tflite_utils\n",
    "import tensorflow as tf\n",
    "import numpy as np\n",
    "from abc import ABC, abstractmethod\n",
    "import tflite2xcore_conv as xcore_conv\n",
    "import tflite_visualize\n",
    "from tflite2xcore import read_flatbuffer, write_flatbuffer\n",
    "import model_interface as mi\n",
    "from termcolor import colored\n",
    "\n",
    "class FunctionModel(mi.Model):\n",
    "\n",
    "    @abstractmethod\n",
    "    def build(self):  # Implementation dependant\n",
    "        pass\n",
    "\n",
    "    @abstractmethod\n",
    "    def prep_data(self):\n",
    "        pass\n",
    "\n",
    "    @abstractmethod\n",
    "    def train(self, BS, EPOCHS):  # Nice default\n",
    "        assert self.data\n",
    "        self.core_model.fit(\n",
    "            self.data['x_train'],\n",
    "            self.data['y_train'],\n",
    "            epochs=EPOCHS,\n",
    "            batch_size=BS,\n",
    "            validation_data=(self.data['x_test'], self.data['y_test']))\n",
    "\n",
    "    @abstractmethod\n",
    "    def gen_test_data(self):\n",
    "        pass\n",
    "\n",
    "    # Import and export core model\n",
    "    def save_core_model(self):\n",
    "        print('Saving the following data keys:', self.data.keys())\n",
    "        np.savez(self.models['data_dir'] / 'data', **self.data)\n",
    "        tf.saved_model.save(self.core_model, str(self.models['models_dir']/'model'))\n",
    "\n",
    "    def load_core_model(self):\n",
    "        data_path = self.models['data_dir']/'data.npz'\n",
    "        model_path = self.models['models_dir']/'model.h5'\n",
    "        try:\n",
    "            logging.info(f\"Loading data from {data_path}\")\n",
    "            self.data = dict(np.load(data_path))\n",
    "            logging.info(f\"Loading keras model from {model_path}\")\n",
    "            self.core_model = tf.keras.models.load_model(model_path)\n",
    "        except FileNotFoundError as e:\n",
    "            logging.error(f\"{e} (Hint: use the --train_model flag)\")\n",
    "            return\n",
    "        out_shape = self.core_model.output_shape[1]\n",
    "        if out_shape != self.output_dim:\n",
    "            raise ValueError(f\"number of specified classes ({self.output_dim})\"\n",
    "                             f\"does not match model output shape ({out_shape})\"\n",
    "                             )\n",
    "\n",
    "    # Conversions\n",
    "    def to_tf_float(self):\n",
    "        super().to_tf_float()\n",
    "        self.converters['model_float'] = tf.lite.TFLiteConverter.from_concrete_functions(\n",
    "            self.function_model)\n",
    "        self.models['model_float'] = common.save_from_tflite_converter(\n",
    "            self.converters['model_float'],\n",
    "            self.models['models_dir'],\n",
    "            'model_float')\n",
    "\n",
    "    def to_tf_quant(self):\n",
    "        super().to_tf_quant()\n",
    "        self.converters['model_quant'] = tf.lite.TFLiteConverter.from_concrete_functions(\n",
    "            self.function_model)\n",
    "        common.quantize_converter(\n",
    "            self.converters['model_quant'], self.data['quant'])\n",
    "        self.models['model_quant'] = common.save_from_tflite_converter(\n",
    "            self.converters['model_quant'],\n",
    "            self.models['models_dir'],\n",
    "            'model_quant')\n",
    "\n",
    "    def to_tf_stripped(self):\n",
    "        super().to_tf_stripped()\n",
    "\n",
    "    def to_tf_xcore(self):\n",
    "        super().to_tf_xcore()\n",
    "\n",
    "\n",
    "class ArgMax16(FunctionModel):\n",
    "    def build(self):\n",
    "        class ArgMaxModel(tf.Module):\n",
    "\n",
    "            def __init__(self):\n",
    "                pass\n",
    "\n",
    "            @tf.function\n",
    "            def func(self, x):\n",
    "                return tf.math.argmax(x, axis=1, output_type=tf.int32)\n",
    "        model = ArgMaxModel()\n",
    "        input_dims = self.input_dim\n",
    "        self.core_model = model\n",
    "        self.function_model = [model.func.get_concrete_function(tf.TensorSpec([1, input_dims], tf.float32))]\n",
    "\n",
    "    def prep_data(self):  # Not training this model\n",
    "        pass\n",
    "\n",
    "    def train(self):  # Not training this model\n",
    "        pass\n",
    "\n",
    "    def gen_test_data(self):\n",
    "        tflite_utils.set_all_seeds()\n",
    "        x_test_float = np.float32(np.random.uniform(0, 1, size=(self.input_dim, self.input_dim)))\n",
    "        x_test_float += np.eye(self.input_dim)\n",
    "        self.data['export_data'] = x_test_float\n",
    "        self.data['quant'] = x_test_float\n",
    "\n",
    "\n",
    "def printc(*s, c='green', back='on_grey'):\n",
    "    if len(s) == 1:\n",
    "        print(colored(str(s)[2:-3], c, back))\n",
    "    else:\n",
    "        print(colored(s[0], c, back), str(s[1:])[1:-2])"
   ]
  },
  {
   "cell_type": "code",
   "execution_count": 91,
   "metadata": {},
   "outputs": [],
   "source": [
    "\n",
    "DEFAULT_INPUTS = 10\n",
    "!rm -rf ./debug/ArgMax16\n",
    "test_model = ArgMax16(\n",
    "    'arg_max_16', pathlib.Path('./debug/ArgMax16'), DEFAULT_INPUTS)\n",
    "test_model.build()"
   ]
  },
  {
   "cell_type": "code",
   "execution_count": 92,
   "metadata": {},
   "outputs": [
    {
     "name": "stdout",
     "output_type": "stream",
     "text": [
      "Saving the following data keys: dict_keys([])\n",
      "INFO:tensorflow:Assets written to: debug/ArgMax16/models/model/assets\n"
     ]
    },
    {
     "name": "stderr",
     "output_type": "stream",
     "text": [
      "INFO:tensorflow:Assets written to: debug/ArgMax16/models/model/assets\n"
     ]
    }
   ],
   "source": [
    "test_model.save_core_model()"
   ]
  },
  {
   "cell_type": "code",
   "execution_count": 93,
   "metadata": {},
   "outputs": [],
   "source": [
    "test_model.gen_test_data()"
   ]
  },
  {
   "cell_type": "code",
   "execution_count": 94,
   "metadata": {},
   "outputs": [
    {
     "name": "stdout",
     "output_type": "stream",
     "text": [
      "\u001b[40m\u001b[32mModel keys:\n",
      "\u001b[0m dict_keys(['data_dir', 'models_dir'])\n",
      "\u001b[40m\u001b[32mModels directory before conversion:\u001b[0m\n",
      "model\n",
      "\u001b[40m\u001b[32mModels directory after conversion:\u001b[0m\n",
      "model  model_float.html  model_float.tflite\n"
     ]
    }
   ],
   "source": [
    "printc('Model keys:\\n', test_model.models.keys())\n",
    "printc('Models directory before conversion:')\n",
    "!ls debug/ArgMax16/models\n",
    "test_model.to_tf_float()\n",
    "printc('Models directory after conversion:')\n",
    "test_model.save_tf_float_data()\n",
    "!ls debug/ArgMax16/models"
   ]
  },
  {
   "cell_type": "code",
   "execution_count": 95,
   "metadata": {},
   "outputs": [
    {
     "name": "stdout",
     "output_type": "stream",
     "text": [
      "\u001b[40m\u001b[32mModel keys:\n",
      "\u001b[0m dict_keys(['data_dir', 'models_dir', 'model_float'])\n",
      "\u001b[40m\u001b[32mModels directory before conversion:\u001b[0m\n",
      "model  model_float.html  model_float.tflite\n",
      "\u001b[40m\u001b[32mModels directory after conversion:\u001b[0m\n",
      "model\t\t  model_float.tflite  model_quant.tflite\n",
      "model_float.html  model_quant.html\n"
     ]
    }
   ],
   "source": [
    "printc('Model keys:\\n', test_model.models.keys())\n",
    "printc('Models directory before conversion:')\n",
    "!ls debug/ArgMax16/models\n",
    "test_model.to_tf_quant()\n",
    "printc('Models directory after conversion:')\n",
    "test_model.save_tf_float_data()\n",
    "!ls debug/ArgMax16/models"
   ]
  },
  {
   "cell_type": "code",
   "execution_count": 96,
   "metadata": {},
   "outputs": [
    {
     "name": "stdout",
     "output_type": "stream",
     "text": [
      "\u001b[40m\u001b[32mModel keys:\n",
      "\u001b[0m dict_keys(['data_dir', 'models_dir', 'model_float', 'model_quant'])\n",
      "\u001b[40m\u001b[32mModels directory before conversion:\u001b[0m\n",
      "model\t\t  model_float.tflite  model_quant.tflite\n",
      "model_float.html  model_quant.html\n",
      "\u001b[40m\u001b[32mModels directory after conversion:\u001b[0m\n"
     ]
    },
    {
     "ename": "KeyError",
     "evalue": "'scale'",
     "output_type": "error",
     "traceback": [
      "\u001b[0;31m------------------------------------------------------------------\u001b[0m",
      "\u001b[0;31mKeyError\u001b[0m                         Traceback (most recent call last)",
      "\u001b[0;32m<ipython-input-96-d3e298f30ecf>\u001b[0m in \u001b[0;36m<module>\u001b[0;34m\u001b[0m\n\u001b[1;32m      4\u001b[0m \u001b[0mtest_model\u001b[0m\u001b[0;34m.\u001b[0m\u001b[0mto_tf_stripped\u001b[0m\u001b[0;34m(\u001b[0m\u001b[0;34m)\u001b[0m\u001b[0;34m\u001b[0m\u001b[0;34m\u001b[0m\u001b[0m\n\u001b[1;32m      5\u001b[0m \u001b[0mprintc\u001b[0m\u001b[0;34m(\u001b[0m\u001b[0;34m'Models directory after conversion:'\u001b[0m\u001b[0;34m)\u001b[0m\u001b[0;34m\u001b[0m\u001b[0;34m\u001b[0m\u001b[0m\n\u001b[0;32m----> 6\u001b[0;31m \u001b[0mtest_model\u001b[0m\u001b[0;34m.\u001b[0m\u001b[0msave_tf_stripped_data\u001b[0m\u001b[0;34m(\u001b[0m\u001b[0;34m)\u001b[0m\u001b[0;34m\u001b[0m\u001b[0;34m\u001b[0m\u001b[0m\n\u001b[0m\u001b[1;32m      7\u001b[0m \u001b[0mget_ipython\u001b[0m\u001b[0;34m(\u001b[0m\u001b[0;34m)\u001b[0m\u001b[0;34m.\u001b[0m\u001b[0msystem\u001b[0m\u001b[0;34m(\u001b[0m\u001b[0;34m'ls debug/ArgMax16/models'\u001b[0m\u001b[0;34m)\u001b[0m\u001b[0;34m\u001b[0m\u001b[0;34m\u001b[0m\u001b[0m\n",
      "\u001b[0;32m~/ai_tools/python/models_dev/interface_development/model_interface.py\u001b[0m in \u001b[0;36msave_tf_stripped_data\u001b[0;34m(self)\u001b[0m\n\u001b[1;32m    236\u001b[0m                     output_quant['zero_point'][0]),\n\u001b[1;32m    237\u001b[0m                 y_test)\n\u001b[0;32m--> 238\u001b[0;31m             \u001b[0mdata\u001b[0m \u001b[0;34m=\u001b[0m \u001b[0;34m{\u001b[0m\u001b[0;34m'x_test'\u001b[0m\u001b[0;34m:\u001b[0m \u001b[0mx_test\u001b[0m\u001b[0;34m,\u001b[0m \u001b[0;34m'y_test'\u001b[0m\u001b[0;34m:\u001b[0m \u001b[0mnp\u001b[0m\u001b[0;34m.\u001b[0m\u001b[0mvstack\u001b[0m\u001b[0;34m(\u001b[0m\u001b[0mlist\u001b[0m\u001b[0;34m(\u001b[0m\u001b[0my_test\u001b[0m\u001b[0;34m)\u001b[0m\u001b[0;34m)\u001b[0m\u001b[0;34m}\u001b[0m\u001b[0;34m\u001b[0m\u001b[0;34m\u001b[0m\u001b[0m\n\u001b[0m\u001b[1;32m    239\u001b[0m \u001b[0;34m\u001b[0m\u001b[0m\n\u001b[1;32m    240\u001b[0m         \u001b[0mcommon\u001b[0m\u001b[0;34m.\u001b[0m\u001b[0msave_test_data\u001b[0m\u001b[0;34m(\u001b[0m\u001b[0mdata\u001b[0m\u001b[0;34m,\u001b[0m \u001b[0mself\u001b[0m\u001b[0;34m.\u001b[0m\u001b[0mmodels\u001b[0m\u001b[0;34m[\u001b[0m\u001b[0;34m'data_dir'\u001b[0m\u001b[0;34m]\u001b[0m\u001b[0;34m,\u001b[0m \u001b[0mbase_file_name\u001b[0m\u001b[0;34m)\u001b[0m\u001b[0;34m\u001b[0m\u001b[0;34m\u001b[0m\u001b[0m\n",
      "\u001b[0;32m~/ai_tools/python/models_dev/interface_development/model_interface.py\u001b[0m in \u001b[0;36m<lambda>\u001b[0;34m(y)\u001b[0m\n\u001b[1;32m    233\u001b[0m                 lambda y: common.quantize(\n\u001b[1;32m    234\u001b[0m                     \u001b[0my\u001b[0m\u001b[0;34m,\u001b[0m\u001b[0;34m\u001b[0m\u001b[0;34m\u001b[0m\u001b[0m\n\u001b[0;32m--> 235\u001b[0;31m                     \u001b[0moutput_quant\u001b[0m\u001b[0;34m[\u001b[0m\u001b[0;34m'scale'\u001b[0m\u001b[0;34m]\u001b[0m\u001b[0;34m[\u001b[0m\u001b[0;36m0\u001b[0m\u001b[0;34m]\u001b[0m\u001b[0;34m,\u001b[0m\u001b[0;34m\u001b[0m\u001b[0;34m\u001b[0m\u001b[0m\n\u001b[0m\u001b[1;32m    236\u001b[0m                     output_quant['zero_point'][0]),\n\u001b[1;32m    237\u001b[0m                 y_test)\n",
      "\u001b[0;31mKeyError\u001b[0m: 'scale'"
     ]
    }
   ],
   "source": [
    "printc('Model keys:\\n', test_model.models.keys())\n",
    "printc('Models directory before conversion:')\n",
    "!ls debug/ArgMax16/models\n",
    "test_model.to_tf_stripped()\n",
    "printc('Models directory after conversion:')\n",
    "test_model.save_tf_stripped_data()\n",
    "!ls debug/ArgMax16/models"
   ]
  },
  {
   "cell_type": "code",
   "execution_count": 97,
   "metadata": {},
   "outputs": [
    {
     "name": "stdout",
     "output_type": "stream",
     "text": [
      "debug/ArgMax16/models/model_quant.tflite\n"
     ]
    }
   ],
   "source": [
    "print(test_model.models['model_quant'])"
   ]
  },
  {
   "cell_type": "code",
   "execution_count": null,
   "metadata": {},
   "outputs": [],
   "source": []
  }
 ],
 "metadata": {
  "kernelspec": {
   "display_name": "Python [conda env:ai_tools_gpu_venv] *",
   "language": "python",
   "name": "conda-env-ai_tools_gpu_venv-py"
  },
  "language_info": {
   "codemirror_mode": {
    "name": "ipython",
    "version": 3
   },
   "file_extension": ".py",
   "mimetype": "text/x-python",
   "name": "python",
   "nbconvert_exporter": "python",
   "pygments_lexer": "ipython3",
   "version": "3.6.8"
  }
 },
 "nbformat": 4,
 "nbformat_minor": 4
}
